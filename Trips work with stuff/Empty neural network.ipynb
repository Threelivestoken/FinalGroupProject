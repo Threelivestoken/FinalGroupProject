{
 "cells": [
  {
   "cell_type": "code",
   "execution_count": 1,
   "id": "66046f9f",
   "metadata": {},
   "outputs": [],
   "source": [
    "import random"
   ]
  },
  {
   "cell_type": "code",
   "execution_count": 10,
   "id": "dbf3494f",
   "metadata": {},
   "outputs": [],
   "source": [
    "network_info={\n",
    "    \"Numoflayers\":3,\n",
    "    \"Sizeoflayers\":3,\n",
    "    \"0\":[],\n",
    "    \"1\":[],\n",
    "    \"2\":[],\n",
    "    \n",
    "    \"m1\":[],\n",
    "    \"m2\":[],\n",
    "    \"b\":[],\n",
    "    \n",
    "    \"Act\":[]#activation function\n",
    "}\n",
    "#Set network\n",
    "for layer in range(network_info[\"Numoflayers\"]):\n",
    "    for node in range(network_info[\"Sizeoflayers\"]):\n",
    "        network_info[str(layer)].append(random.uniform(-1,1))\n",
    "\n",
    "for taco in range(1,network_info[\"Numoflayers\"]):\n",
    "    for layer in range(network_info[\"Numoflayers\"]*network_info[\"Sizeoflayers\"]):\n",
    "        network_info[\"m\"+str(taco)].append(random.uniform(-1,1))\n",
    "for layer in range(network_info[\"Numoflayers\"]*network_info[\"Sizeoflayers\"]):\n",
    "    network_info[\"b\"].append(random.uniform(-1,1))"
   ]
  },
  {
   "cell_type": "code",
   "execution_count": null,
   "id": "beea8b2f",
   "metadata": {},
   "outputs": [],
   "source": []
  },
  {
   "cell_type": "code",
   "execution_count": null,
   "id": "70c14c1f",
   "metadata": {},
   "outputs": [],
   "source": [
    "layers=network_info[\"Numoflayers\"]\n",
    "current_layer=0\n",
    "current_layer=0"
   ]
  }
 ],
 "metadata": {
  "kernelspec": {
   "display_name": "Python 3 (ipykernel)",
   "language": "python",
   "name": "python3"
  },
  "language_info": {
   "codemirror_mode": {
    "name": "ipython",
    "version": 3
   },
   "file_extension": ".py",
   "mimetype": "text/x-python",
   "name": "python",
   "nbconvert_exporter": "python",
   "pygments_lexer": "ipython3",
   "version": "3.9.13"
  }
 },
 "nbformat": 4,
 "nbformat_minor": 5
}
