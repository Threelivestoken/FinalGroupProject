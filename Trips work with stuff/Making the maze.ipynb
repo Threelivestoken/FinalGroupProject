{
 "cells": [
  {
   "cell_type": "code",
   "execution_count": 1,
   "id": "634628a7",
   "metadata": {},
   "outputs": [
    {
     "name": "stdout",
     "output_type": "stream",
     "text": [
      "- - -\n",
      "- - -\n",
      "- - -\n",
      "Changing value at (1, 1) to 'X'\n",
      "- - -\n",
      "- X -\n",
      "- - -\n"
     ]
    }
   ],
   "source": [
    "#Seed\n",
    "class Grid:\n",
    "    def __init__(self, rows, cols):\n",
    "        self.rows = rows\n",
    "        self.cols = cols\n",
    "        self.grid = [['-' for _ in range(cols)] for _ in range(rows)]\n",
    "\n",
    "    def set_value(self, row, col, value):\n",
    "        if 0 <= row < self.rows and 0 <= col < self.cols:\n",
    "            self.grid[row][col] = value\n",
    "        else:\n",
    "            print(\"Index out of range\")\n",
    "\n",
    "    def display(self):\n",
    "        for row in self.grid:\n",
    "            print(\" \".join(row))\n",
    "\n",
    "# Example usage:\n",
    "grid = Grid(3, 3)\n",
    "grid.display()\n",
    "\n",
    "print(\"Changing value at (1, 1) to 'X'\")\n",
    "grid.set_value(1, 1, 'X')\n",
    "grid.display()"
   ]
  },
  {
   "cell_type": "code",
   "execution_count": 13,
   "id": "2873aaa8",
   "metadata": {},
   "outputs": [
    {
     "name": "stdout",
     "output_type": "stream",
     "text": [
      "3000\n",
      "0090\n",
      "0100\n",
      "0010\n"
     ]
    }
   ],
   "source": [
    "#make a grid\n",
    "grid={\"X\":4,\"Y\":4,\"stuff\":[3,0,0,0,\n",
    "                          0,0,9,0,\n",
    "                          0,1,0,0,\n",
    "                          0,0,1,0,]}\n",
    "def displaygrid(grid):\n",
    "    #Turn it into a bunch of strings so that you can display\n",
    "    for taco in range(len(grid[\"stuff\"])):\n",
    "        if grid[\"stuff\"][taco]==str:\n",
    "            grid[\"stuff\"][taco]=grid[\"stuff\"][taco]\n",
    "        else:\n",
    "            grid[\"stuff\"][taco]=str(grid[\"stuff\"][taco])\n",
    "    for taco in range(grid[\"Y\"]):\n",
    "        x=\"\"\n",
    "        for burrito in range(grid[\"Y\"]):\n",
    "            x=x+grid[\"stuff\"][taco*grid[\"Y\"]+burrito]\n",
    "        print(x)\n",
    "displaygrid(grid)"
   ]
  },
  {
   "cell_type": "code",
   "execution_count": null,
   "id": "8f96a544",
   "metadata": {},
   "outputs": [],
   "source": []
  },
  {
   "cell_type": "code",
   "execution_count": null,
   "id": "84ec500e",
   "metadata": {},
   "outputs": [],
   "source": []
  }
 ],
 "metadata": {
  "kernelspec": {
   "display_name": "Python 3 (ipykernel)",
   "language": "python",
   "name": "python3"
  },
  "language_info": {
   "codemirror_mode": {
    "name": "ipython",
    "version": 3
   },
   "file_extension": ".py",
   "mimetype": "text/x-python",
   "name": "python",
   "nbconvert_exporter": "python",
   "pygments_lexer": "ipython3",
   "version": "3.9.13"
  }
 },
 "nbformat": 4,
 "nbformat_minor": 5
}
