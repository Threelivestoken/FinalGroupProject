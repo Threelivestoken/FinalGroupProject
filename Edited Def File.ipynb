{
 "cells": [
  {
   "cell_type": "code",
   "execution_count": null,
   "id": "49799a8c",
   "metadata": {},
   "outputs": [],
   "source": [
    "def createseed(preset_seed=None):\n",
    "    \"\"\"\n",
    "    Creates a game seed with customizable parameters.\n",
    "    \n",
    "    Parameters:\n",
    "    preset_seed (str): Optional preset seed name for customization.\n",
    "    \n",
    "    Returns:\n",
    "    dict: A dictionary containing seed information including dimensions and tile probabilities.\n",
    "    \"\"\"\n",
    "    print(\"Initializing seed creation...\")\n",
    "    \n",
    "    # Define the tiles and their initial probabilities\n",
    "    seed_info = {\n",
    "        \"Tiles\": [0, 1, 2, 3],\n",
    "        \"TilesProb\": [1, 1, 1, 1],\n",
    "        \"Width\": 10,\n",
    "        \"Height\": 10\n",
    "    }\n",
    "    \n",
    "    # Input for setting the width of the seed, with validation\n",
    "    width = input(\"Enter seed width (1-99): \")\n",
    "    try:\n",
    "        width = int(width)\n",
    "        if 1 <= width <= 99:\n",
    "            seed_info[\"Width\"] = width\n",
    "        else:\n",
    "            raise ValueError(\"Width out of allowed range.\")\n",
    "    except ValueError:\n",
    "        print(\"Invalid width input. Using default width: 10.\")\n",
    "    \n",
    "    # Input for setting the height of the seed, with validation\n",
    "    height = input(\"Enter seed height (1-99): \")\n",
    "    try:\n",
    "        height = int(height)\n",
    "        if 1 <= height <= 99:\n",
    "            seed_info[\"Height\"] = height\n",
    "        else:\n",
    "            raise ValueError(\"Height out of allowed range.\")\n",
    "    except ValueError:\n",
    "        print(\"Invalid height input. Using default height: 10.\")\n",
    "    \n",
    "    return seed_info\n",
    "\n",
    "# Example of creating a seed\n",
    "seed = createseed()\n",
    "print(\"Seed created with dimensions: Width =\", seed[\"Width\"], \"Height =\", seed[\"Height\"])\n"
   ]
  }
 ],
 "metadata": {
  "kernelspec": {
   "display_name": "Python 3 (ipykernel)",
   "language": "python",
   "name": "python3"
  },
  "language_info": {
   "codemirror_mode": {
    "name": "ipython",
    "version": 3
   },
   "file_extension": ".py",
   "mimetype": "text/x-python",
   "name": "python",
   "nbconvert_exporter": "python",
   "pygments_lexer": "ipython3",
   "version": "3.11.7"
  }
 },
 "nbformat": 4,
 "nbformat_minor": 5
}
