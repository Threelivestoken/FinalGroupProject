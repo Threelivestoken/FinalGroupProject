{
 "cells": [
  {
   "cell_type": "code",
   "execution_count": 1,
   "id": "634628a7",
   "metadata": {},
   "outputs": [
    {
     "name": "stdout",
     "output_type": "stream",
     "text": [
      "- - -\n",
      "- - -\n",
      "- - -\n",
      "Changing value at (1, 1) to 'X'\n",
      "- - -\n",
      "- X -\n",
      "- - -\n"
     ]
    }
   ],
   "source": [
    "#Seed\n",
    "class Grid:\n",
    "    def __init__(self, rows, cols):\n",
    "        self.rows = rows\n",
    "        self.cols = cols\n",
    "        self.grid = [['-' for _ in range(cols)] for _ in range(rows)]\n",
    "\n",
    "    def set_value(self, row, col, value):\n",
    "        if 0 <= row < self.rows and 0 <= col < self.cols:\n",
    "            self.grid[row][col] = value\n",
    "        else:\n",
    "            print(\"Index out of range\")\n",
    "\n",
    "    def display(self):\n",
    "        for row in self.grid:\n",
    "            print(\" \".join(row))\n",
    "\n",
    "# Example usage:\n",
    "grid = Grid(3, 3)\n",
    "grid.display()\n",
    "\n",
    "print(\"Changing value at (1, 1) to 'X'\")\n",
    "grid.set_value(1, 1, 'X')\n",
    "grid.display()"
   ]
  },
  {
   "cell_type": "code",
   "execution_count": null,
   "id": "2873aaa8",
   "metadata": {},
   "outputs": [],
   "source": [
    "#make a grid\n",
    "grid={\"X\":1,\"Y\":1,[]}\n",
    "def displaygrid(grid):\n",
    "    x=\"\"\n",
    "    for taco in grid[\"info\"]"
   ]
  }
 ],
 "metadata": {
  "kernelspec": {
   "display_name": "Python 3 (ipykernel)",
   "language": "python",
   "name": "python3"
  },
  "language_info": {
   "codemirror_mode": {
    "name": "ipython",
    "version": 3
   },
   "file_extension": ".py",
   "mimetype": "text/x-python",
   "name": "python",
   "nbconvert_exporter": "python",
   "pygments_lexer": "ipython3",
   "version": "3.9.13"
  }
 },
 "nbformat": 4,
 "nbformat_minor": 5
}
