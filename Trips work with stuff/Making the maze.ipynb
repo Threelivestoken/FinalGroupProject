{
 "cells": [
  {
   "cell_type": "code",
   "execution_count": null,
   "id": "634628a7",
   "metadata": {},
   "outputs": [],
   "source": []
  },
  {
   "cell_type": "code",
   "execution_count": 13,
   "id": "2873aaa8",
   "metadata": {},
   "outputs": [
    {
     "name": "stdout",
     "output_type": "stream",
     "text": [
      "3000\n",
      "0090\n",
      "0100\n",
      "0010\n"
     ]
    }
   ],
   "source": [
    "#make a grid\n",
    "def displaygrid(grid):\n",
    "    #Turn it into a bunch of strings so that you can display\n",
    "    for taco in range(len(grid[\"stuff\"])):\n",
    "        if grid[\"stuff\"][taco]==str:\n",
    "            grid[\"stuff\"][taco]=grid[\"stuff\"][taco]\n",
    "        else:\n",
    "            grid[\"stuff\"][taco]=str(grid[\"stuff\"][taco])\n",
    "    for taco in range(grid[\"Y\"]):\n",
    "        x=\"\"\n",
    "        for burrito in range(grid[\"Y\"]):\n",
    "            x=x+grid[\"stuff\"][taco*grid[\"Y\"]+burrito]\n",
    "        print(x)\n",
    "displaygrid(grid)"
   ]
  },
  {
   "cell_type": "code",
   "execution_count": null,
   "id": "b9c2c532",
   "metadata": {},
   "outputs": [],
   "source": [
    "#make grid\n",
    "grid={\"X\":4,\"Y\":4,\"agentplace\":0,\"stuff\":[0,0,0,0,\n",
    "                          0,0,0,0,\n",
    "                          0,0,0,0,\n",
    "                          0,0,0,0,]}\n",
    "#make agent info"
   ]
  },
  {
   "cell_type": "code",
   "execution_count": null,
   "id": "e802a528",
   "metadata": {},
   "outputs": [],
   "source": [
    "#make a seed, 10 possible objects\n",
    "import random\n",
    "x=input(\"Width: \")\n",
    "y=input(\"Height: \")\n",
    "objects=10\n",
    "seed=0\n",
    "for taco in range(x*y-1):\n",
    "    seed=seed*10+(random.randint(0, objects))\n",
    "print(seed)"
   ]
  }
 ],
 "metadata": {
  "kernelspec": {
   "display_name": "Python 3 (ipykernel)",
   "language": "python",
   "name": "python3"
  },
  "language_info": {
   "codemirror_mode": {
    "name": "ipython",
    "version": 3
   },
   "file_extension": ".py",
   "mimetype": "text/x-python",
   "name": "python",
   "nbconvert_exporter": "python",
   "pygments_lexer": "ipython3",
   "version": "3.9.13"
  }
 },
 "nbformat": 4,
 "nbformat_minor": 5
}
